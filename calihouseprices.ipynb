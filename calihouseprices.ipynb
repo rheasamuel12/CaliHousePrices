{
 "cells": [
  {
   "cell_type": "code",
   "execution_count": 1,
   "id": "17086ad8-49ff-485f-8d27-baf7d0d10b84",
   "metadata": {},
   "outputs": [
    {
     "name": "stdout",
     "output_type": "stream",
     "text": [
      "--2025-03-13 05:00:40--  https://raw.githubusercontent.com/joestubbs/coe379L-sp25/refs/heads/master/datasets/unit02/california_housing.csv\n",
      "Resolving raw.githubusercontent.com (raw.githubusercontent.com)... 185.199.111.133, 185.199.108.133, 185.199.109.133, ...\n",
      "Connecting to raw.githubusercontent.com (raw.githubusercontent.com)|185.199.111.133|:443... connected.\n",
      "HTTP request sent, awaiting response... 200 OK\n",
      "Length: 1813504 (1.7M) [text/plain]\n",
      "Saving to: ‘california_housing.csv.19’\n",
      "\n",
      "california_housing. 100%[===================>]   1.73M  --.-KB/s    in 0.07s   \n",
      "\n",
      "2025-03-13 05:00:40 (24.2 MB/s) - ‘california_housing.csv.19’ saved [1813504/1813504]\n",
      "\n"
     ]
    }
   ],
   "source": [
    "# download data\n",
    "!wget https://raw.githubusercontent.com/joestubbs/coe379L-sp25/refs/heads/master/datasets/unit02/california_housing.csv"
   ]
  },
  {
   "cell_type": "code",
   "execution_count": 2,
   "id": "98cdf3a7-2a0a-4ac2-b0ad-827012fe43df",
   "metadata": {},
   "outputs": [
    {
     "name": "stderr",
     "output_type": "stream",
     "text": [
      "/tmp/ipykernel_20691/15381670.py:1: DeprecationWarning: \n",
      "Pyarrow will become a required dependency of pandas in the next major release of pandas (pandas 3.0),\n",
      "(to allow more performant data types, such as the Arrow string type, and better interoperability with other libraries)\n",
      "but was not found to be installed on your system.\n",
      "If this would cause problems for you,\n",
      "please provide us feedback at https://github.com/pandas-dev/pandas/issues/54466\n",
      "        \n",
      "  import pandas as pd\n"
     ]
    }
   ],
   "source": [
    "import pandas as pd\n",
    "cali_housing = pd.read_csv('california_housing.csv')"
   ]
  },
  {
   "cell_type": "code",
   "execution_count": 3,
   "id": "d702723c-46e6-4d99-815f-8be71cdfee7e",
   "metadata": {},
   "outputs": [],
   "source": [
    "# Part 1"
   ]
  },
  {
   "cell_type": "code",
   "execution_count": 4,
   "id": "3dbf26a2-808b-4efe-898b-8adf5059166b",
   "metadata": {},
   "outputs": [
    {
     "data": {
      "text/plain": [
       "(20634, 9)"
      ]
     },
     "execution_count": 4,
     "metadata": {},
     "output_type": "execute_result"
    }
   ],
   "source": [
    "cali_housing.shape"
   ]
  },
  {
   "cell_type": "code",
   "execution_count": 5,
   "id": "a59c3078-0ed4-4654-973e-c2ff6f614b57",
   "metadata": {},
   "outputs": [
    {
     "data": {
      "text/plain": [
       "185706"
      ]
     },
     "execution_count": 5,
     "metadata": {},
     "output_type": "execute_result"
    }
   ],
   "source": [
    "cali_housing.size"
   ]
  },
  {
   "cell_type": "code",
   "execution_count": 6,
   "id": "6e604926-d740-4d65-bae3-eb98339a3b19",
   "metadata": {},
   "outputs": [
    {
     "name": "stdout",
     "output_type": "stream",
     "text": [
      "<class 'pandas.core.frame.DataFrame'>\n",
      "RangeIndex: 20634 entries, 0 to 20633\n",
      "Data columns (total 9 columns):\n",
      " #   Column              Non-Null Count  Dtype  \n",
      "---  ------              --------------  -----  \n",
      " 0   MedInc              20634 non-null  float64\n",
      " 1   HouseAge            20634 non-null  float64\n",
      " 2   AveRooms            20634 non-null  float64\n",
      " 3   AveBedrms           20634 non-null  float64\n",
      " 4   Population          20634 non-null  float64\n",
      " 5   AveOccup            20634 non-null  float64\n",
      " 6   Latitude            20634 non-null  float64\n",
      " 7   Longitude           20634 non-null  float64\n",
      " 8   price_above_median  20634 non-null  int64  \n",
      "dtypes: float64(8), int64(1)\n",
      "memory usage: 1.4 MB\n"
     ]
    }
   ],
   "source": [
    "cali_housing.info()"
   ]
  },
  {
   "cell_type": "code",
   "execution_count": 7,
   "id": "e0535c2c-926b-4001-ac2c-0e5a48a66487",
   "metadata": {},
   "outputs": [
    {
     "data": {
      "text/plain": [
       "0        2.1827\n",
       "1        3.0755\n",
       "2        1.8235\n",
       "3        1.4625\n",
       "4        1.9063\n",
       "          ...  \n",
       "20629    4.3487\n",
       "20630    5.6790\n",
       "20631    1.9327\n",
       "20632    3.7500\n",
       "20633    2.8542\n",
       "Name: MedInc, Length: 20634, dtype: float64"
      ]
     },
     "execution_count": 7,
     "metadata": {},
     "output_type": "execute_result"
    }
   ],
   "source": [
    "cali_housing['MedInc']"
   ]
  },
  {
   "cell_type": "code",
   "execution_count": 8,
   "id": "fb02d538-d567-413e-9d89-b2585d50bbae",
   "metadata": {},
   "outputs": [
    {
     "data": {
      "text/plain": [
       "0        26.0\n",
       "1        32.0\n",
       "2        40.0\n",
       "3        37.0\n",
       "4        13.0\n",
       "         ... \n",
       "20629    29.0\n",
       "20630    20.0\n",
       "20631    10.0\n",
       "20632    38.0\n",
       "20633    37.0\n",
       "Name: HouseAge, Length: 20634, dtype: float64"
      ]
     },
     "execution_count": 8,
     "metadata": {},
     "output_type": "execute_result"
    }
   ],
   "source": [
    "cali_housing['HouseAge']"
   ]
  },
  {
   "cell_type": "code",
   "execution_count": 9,
   "id": "6852578d-2110-4a23-9ff6-dbaafae7d7df",
   "metadata": {},
   "outputs": [
    {
     "data": {
      "text/plain": [
       "0        4.521429\n",
       "1        4.623068\n",
       "2        4.701149\n",
       "3        4.247845\n",
       "4        3.453125\n",
       "           ...   \n",
       "20629    5.930712\n",
       "20630    6.401274\n",
       "20631    5.789474\n",
       "20632    5.275229\n",
       "20633    5.253731\n",
       "Name: AveRooms, Length: 20634, dtype: float64"
      ]
     },
     "execution_count": 9,
     "metadata": {},
     "output_type": "execute_result"
    }
   ],
   "source": [
    "cali_housing['AveRooms']"
   ]
  },
  {
   "cell_type": "code",
   "execution_count": 10,
   "id": "4a8859e8-d3f7-4304-a703-2efaade20275",
   "metadata": {},
   "outputs": [
    {
     "data": {
      "text/plain": [
       "0        0.921429\n",
       "1        0.983353\n",
       "2        1.126437\n",
       "3        1.105603\n",
       "4        0.984375\n",
       "           ...   \n",
       "20629    1.026217\n",
       "20630    1.070064\n",
       "20631    1.078947\n",
       "20632    0.981651\n",
       "20633    0.970149\n",
       "Name: AveBedrms, Length: 20634, dtype: float64"
      ]
     },
     "execution_count": 10,
     "metadata": {},
     "output_type": "execute_result"
    }
   ],
   "source": [
    "cali_housing['AveBedrms']"
   ]
  },
  {
   "cell_type": "code",
   "execution_count": 11,
   "id": "e3316fad-6f7f-4458-b83d-df23c44d626d",
   "metadata": {},
   "outputs": [
    {
     "data": {
      "text/plain": [
       "0         305.0\n",
       "1        3868.0\n",
       "2         928.0\n",
       "3        1673.0\n",
       "4         286.0\n",
       "          ...  \n",
       "20629    1554.0\n",
       "20630     457.0\n",
       "20631     898.0\n",
       "20632     259.0\n",
       "20633     238.0\n",
       "Name: Population, Length: 20634, dtype: float64"
      ]
     },
     "execution_count": 11,
     "metadata": {},
     "output_type": "execute_result"
    }
   ],
   "source": [
    "cali_housing['Population']"
   ]
  },
  {
   "cell_type": "code",
   "execution_count": 12,
   "id": "19891669-eb90-48ab-83c2-2d452857f991",
   "metadata": {},
   "outputs": [
    {
     "data": {
      "text/plain": [
       "0        2.178571\n",
       "1        4.599287\n",
       "2        3.555556\n",
       "3        3.605603\n",
       "4        4.468750\n",
       "           ...   \n",
       "20629    2.910112\n",
       "20630    2.910828\n",
       "20631    3.938596\n",
       "20632    2.376147\n",
       "20633    3.552239\n",
       "Name: AveOccup, Length: 20634, dtype: float64"
      ]
     },
     "execution_count": 12,
     "metadata": {},
     "output_type": "execute_result"
    }
   ],
   "source": [
    "cali_housing['AveOccup']"
   ]
  },
  {
   "cell_type": "code",
   "execution_count": 13,
   "id": "83ad36cf-b8d3-4f4a-9884-5595185882ee",
   "metadata": {},
   "outputs": [
    {
     "data": {
      "text/plain": [
       "0        40.05\n",
       "1        32.77\n",
       "2        37.75\n",
       "3        33.99\n",
       "4        33.97\n",
       "         ...  \n",
       "20629    38.65\n",
       "20630    38.56\n",
       "20631    38.57\n",
       "20632    38.72\n",
       "20633    38.84\n",
       "Name: Latitude, Length: 20634, dtype: float64"
      ]
     },
     "execution_count": 13,
     "metadata": {},
     "output_type": "execute_result"
    }
   ],
   "source": [
    "cali_housing['Latitude']"
   ]
  },
  {
   "cell_type": "code",
   "execution_count": 14,
   "id": "67b7da8d-ad9c-4ba3-930c-0caf70eae52c",
   "metadata": {},
   "outputs": [
    {
     "data": {
      "text/plain": [
       "0       -122.10\n",
       "1       -117.06\n",
       "2       -122.16\n",
       "3       -118.28\n",
       "4       -118.16\n",
       "          ...  \n",
       "20629   -121.84\n",
       "20630   -122.05\n",
       "20631   -121.92\n",
       "20632   -121.90\n",
       "20633   -121.81\n",
       "Name: Longitude, Length: 20634, dtype: float64"
      ]
     },
     "execution_count": 14,
     "metadata": {},
     "output_type": "execute_result"
    }
   ],
   "source": [
    "cali_housing['Longitude']"
   ]
  },
  {
   "cell_type": "code",
   "execution_count": 15,
   "id": "d3672a79-20ac-47b5-b5df-00982d9d74f2",
   "metadata": {},
   "outputs": [
    {
     "data": {
      "text/plain": [
       "0        0\n",
       "1        0\n",
       "2        0\n",
       "3        0\n",
       "4        0\n",
       "        ..\n",
       "20629    1\n",
       "20630    1\n",
       "20631    1\n",
       "20632    1\n",
       "20633    1\n",
       "Name: price_above_median, Length: 20634, dtype: int64"
      ]
     },
     "execution_count": 15,
     "metadata": {},
     "output_type": "execute_result"
    }
   ],
   "source": [
    "cali_housing['price_above_median'] # categorical data"
   ]
  },
  {
   "cell_type": "code",
   "execution_count": 16,
   "id": "7b9191ac-40ce-44cb-9631-ce58ddc2fd88",
   "metadata": {},
   "outputs": [],
   "source": [
    "# no data needs datatype conversion other than the 'price_above_median' variable, which we can change using one-hot-encoding"
   ]
  },
  {
   "cell_type": "code",
   "execution_count": 17,
   "id": "728db580-9e97-4095-895c-e373696cca5a",
   "metadata": {},
   "outputs": [
    {
     "data": {
      "text/plain": [
       "MedInc                0\n",
       "HouseAge              0\n",
       "AveRooms              0\n",
       "AveBedrms             0\n",
       "Population            0\n",
       "AveOccup              0\n",
       "Latitude              0\n",
       "Longitude             0\n",
       "price_above_median    0\n",
       "dtype: int64"
      ]
     },
     "execution_count": 17,
     "metadata": {},
     "output_type": "execute_result"
    }
   ],
   "source": [
    "cali_housing.isnull().sum() # no null values to replace"
   ]
  },
  {
   "cell_type": "code",
   "execution_count": 18,
   "id": "826f2564-a9b9-450b-9c9d-8ef845ca89b3",
   "metadata": {},
   "outputs": [
    {
     "data": {
      "text/plain": [
       "0"
      ]
     },
     "execution_count": 18,
     "metadata": {},
     "output_type": "execute_result"
    }
   ],
   "source": [
    "cali_housing.duplicated().sum() # no duplicated values to drop"
   ]
  },
  {
   "cell_type": "code",
   "execution_count": 19,
   "id": "06a09e11-b7ae-4f92-8d69-994ebe9e9507",
   "metadata": {},
   "outputs": [
    {
     "data": {
      "text/plain": [
       "Population\n",
       "3.0        0.53600\n",
       "5.0        0.53600\n",
       "6.0        2.37500\n",
       "8.0        2.03125\n",
       "9.0        1.08050\n",
       "            ...   \n",
       "15507.0    6.01910\n",
       "16122.0    7.49470\n",
       "16305.0    4.95160\n",
       "28566.0    2.30870\n",
       "35682.0    2.57290\n",
       "Name: MedInc, Length: 3887, dtype: float64"
      ]
     },
     "execution_count": 19,
     "metadata": {},
     "output_type": "execute_result"
    }
   ],
   "source": [
    "cali_housing.groupby(['Population'])['MedInc'].mean() # avg income for households within a block of houses per population"
   ]
  },
  {
   "cell_type": "code",
   "execution_count": 20,
   "id": "18d9df25-1acf-41c4-afa1-fe16ddc391a7",
   "metadata": {},
   "outputs": [
    {
     "data": {
      "text/plain": [
       "1425.3980808374527"
      ]
     },
     "execution_count": 20,
     "metadata": {},
     "output_type": "execute_result"
    }
   ],
   "source": [
    "cali_housing['Population'].mean() #average amount of people residing within a block"
   ]
  },
  {
   "cell_type": "code",
   "execution_count": 21,
   "id": "af6d169e-6491-48e9-b14e-59e0516761fd",
   "metadata": {},
   "outputs": [
    {
     "data": {
      "text/plain": [
       "3.0704492334153453"
      ]
     },
     "execution_count": 21,
     "metadata": {},
     "output_type": "execute_result"
    }
   ],
   "source": [
    "cali_housing['AveOccup'].mean() #"
   ]
  },
  {
   "cell_type": "code",
   "execution_count": 22,
   "id": "c65a67b8-5613-4156-8bb7-991e60b536af",
   "metadata": {},
   "outputs": [
    {
     "data": {
      "text/plain": [
       "52.0"
      ]
     },
     "execution_count": 22,
     "metadata": {},
     "output_type": "execute_result"
    }
   ],
   "source": [
    "cali_housing['HouseAge'].max()"
   ]
  },
  {
   "cell_type": "code",
   "execution_count": 23,
   "id": "5aa29021-b14f-4e88-8ea6-9317fd726d81",
   "metadata": {},
   "outputs": [
    {
     "data": {
      "text/plain": [
       "0.3333333333333333"
      ]
     },
     "execution_count": 23,
     "metadata": {},
     "output_type": "execute_result"
    }
   ],
   "source": [
    "cali_housing['AveBedrms'].min()"
   ]
  },
  {
   "cell_type": "code",
   "execution_count": 24,
   "id": "556bd25d-a0ce-4122-bce6-cda4a18a6dce",
   "metadata": {},
   "outputs": [
    {
     "data": {
      "text/plain": [
       "0.8461538461538461"
      ]
     },
     "execution_count": 24,
     "metadata": {},
     "output_type": "execute_result"
    }
   ],
   "source": [
    "cali_housing['AveRooms'].min()"
   ]
  },
  {
   "cell_type": "code",
   "execution_count": 25,
   "id": "c2b3b6a1-d196-46f4-b9fd-aed429680ffb",
   "metadata": {},
   "outputs": [
    {
     "data": {
      "text/plain": [
       "34.26"
      ]
     },
     "execution_count": 25,
     "metadata": {},
     "output_type": "execute_result"
    }
   ],
   "source": [
    "cali_housing['Latitude'].median()"
   ]
  },
  {
   "cell_type": "code",
   "execution_count": 26,
   "id": "4ab2875f-51dc-4c26-be23-e6a7a862f5de",
   "metadata": {},
   "outputs": [
    {
     "data": {
      "text/plain": [
       "-118.49"
      ]
     },
     "execution_count": 26,
     "metadata": {},
     "output_type": "execute_result"
    }
   ],
   "source": [
    "cali_housing['Longitude'].median()"
   ]
  },
  {
   "cell_type": "code",
   "execution_count": 27,
   "id": "fcdb3efa-0683-46d1-8b3f-43515907a7a7",
   "metadata": {},
   "outputs": [
    {
     "data": {
      "text/plain": [
       "0.5"
      ]
     },
     "execution_count": 27,
     "metadata": {},
     "output_type": "execute_result"
    }
   ],
   "source": [
    "cali_housing['price_above_median'].mean()"
   ]
  },
  {
   "cell_type": "code",
   "execution_count": 28,
   "id": "1fdb33b1-b1d3-48e1-a434-93727c5b5011",
   "metadata": {},
   "outputs": [
    {
     "data": {
      "text/html": [
       "<div>\n",
       "<style scoped>\n",
       "    .dataframe tbody tr th:only-of-type {\n",
       "        vertical-align: middle;\n",
       "    }\n",
       "\n",
       "    .dataframe tbody tr th {\n",
       "        vertical-align: top;\n",
       "    }\n",
       "\n",
       "    .dataframe thead th {\n",
       "        text-align: right;\n",
       "    }\n",
       "</style>\n",
       "<table border=\"1\" class=\"dataframe\">\n",
       "  <thead>\n",
       "    <tr style=\"text-align: right;\">\n",
       "      <th></th>\n",
       "      <th>MedInc</th>\n",
       "      <th>HouseAge</th>\n",
       "      <th>AveRooms</th>\n",
       "      <th>AveBedrms</th>\n",
       "      <th>Population</th>\n",
       "      <th>AveOccup</th>\n",
       "      <th>Latitude</th>\n",
       "      <th>Longitude</th>\n",
       "      <th>price_above_median</th>\n",
       "    </tr>\n",
       "  </thead>\n",
       "  <tbody>\n",
       "    <tr>\n",
       "      <th>count</th>\n",
       "      <td>20634.000000</td>\n",
       "      <td>20634.000000</td>\n",
       "      <td>20634.000000</td>\n",
       "      <td>20634.000000</td>\n",
       "      <td>20634.000000</td>\n",
       "      <td>20634.000000</td>\n",
       "      <td>20634.000000</td>\n",
       "      <td>20634.000000</td>\n",
       "      <td>20634.000000</td>\n",
       "    </tr>\n",
       "    <tr>\n",
       "      <th>mean</th>\n",
       "      <td>3.870795</td>\n",
       "      <td>28.640399</td>\n",
       "      <td>5.429171</td>\n",
       "      <td>1.096628</td>\n",
       "      <td>1425.398081</td>\n",
       "      <td>3.070449</td>\n",
       "      <td>35.631722</td>\n",
       "      <td>-119.569594</td>\n",
       "      <td>0.500000</td>\n",
       "    </tr>\n",
       "    <tr>\n",
       "      <th>std</th>\n",
       "      <td>1.899796</td>\n",
       "      <td>12.584629</td>\n",
       "      <td>2.474393</td>\n",
       "      <td>0.473929</td>\n",
       "      <td>1132.137403</td>\n",
       "      <td>10.387501</td>\n",
       "      <td>2.135738</td>\n",
       "      <td>2.003457</td>\n",
       "      <td>0.500012</td>\n",
       "    </tr>\n",
       "    <tr>\n",
       "      <th>min</th>\n",
       "      <td>0.499900</td>\n",
       "      <td>1.000000</td>\n",
       "      <td>0.846154</td>\n",
       "      <td>0.333333</td>\n",
       "      <td>3.000000</td>\n",
       "      <td>0.692308</td>\n",
       "      <td>32.540000</td>\n",
       "      <td>-124.350000</td>\n",
       "      <td>0.000000</td>\n",
       "    </tr>\n",
       "    <tr>\n",
       "      <th>25%</th>\n",
       "      <td>2.563925</td>\n",
       "      <td>18.000000</td>\n",
       "      <td>4.440930</td>\n",
       "      <td>1.006067</td>\n",
       "      <td>787.000000</td>\n",
       "      <td>2.429649</td>\n",
       "      <td>33.930000</td>\n",
       "      <td>-121.800000</td>\n",
       "      <td>0.000000</td>\n",
       "    </tr>\n",
       "    <tr>\n",
       "      <th>50%</th>\n",
       "      <td>3.534950</td>\n",
       "      <td>29.000000</td>\n",
       "      <td>5.229190</td>\n",
       "      <td>1.048780</td>\n",
       "      <td>1166.000000</td>\n",
       "      <td>2.817937</td>\n",
       "      <td>34.260000</td>\n",
       "      <td>-118.490000</td>\n",
       "      <td>0.500000</td>\n",
       "    </tr>\n",
       "    <tr>\n",
       "      <th>75%</th>\n",
       "      <td>4.743550</td>\n",
       "      <td>37.000000</td>\n",
       "      <td>6.052381</td>\n",
       "      <td>1.099499</td>\n",
       "      <td>1725.000000</td>\n",
       "      <td>3.282249</td>\n",
       "      <td>37.710000</td>\n",
       "      <td>-118.010000</td>\n",
       "      <td>1.000000</td>\n",
       "    </tr>\n",
       "    <tr>\n",
       "      <th>max</th>\n",
       "      <td>15.000100</td>\n",
       "      <td>52.000000</td>\n",
       "      <td>141.909091</td>\n",
       "      <td>34.066667</td>\n",
       "      <td>35682.000000</td>\n",
       "      <td>1243.333333</td>\n",
       "      <td>41.950000</td>\n",
       "      <td>-114.310000</td>\n",
       "      <td>1.000000</td>\n",
       "    </tr>\n",
       "  </tbody>\n",
       "</table>\n",
       "</div>"
      ],
      "text/plain": [
       "             MedInc      HouseAge      AveRooms     AveBedrms    Population  \\\n",
       "count  20634.000000  20634.000000  20634.000000  20634.000000  20634.000000   \n",
       "mean       3.870795     28.640399      5.429171      1.096628   1425.398081   \n",
       "std        1.899796     12.584629      2.474393      0.473929   1132.137403   \n",
       "min        0.499900      1.000000      0.846154      0.333333      3.000000   \n",
       "25%        2.563925     18.000000      4.440930      1.006067    787.000000   \n",
       "50%        3.534950     29.000000      5.229190      1.048780   1166.000000   \n",
       "75%        4.743550     37.000000      6.052381      1.099499   1725.000000   \n",
       "max       15.000100     52.000000    141.909091     34.066667  35682.000000   \n",
       "\n",
       "           AveOccup      Latitude     Longitude  price_above_median  \n",
       "count  20634.000000  20634.000000  20634.000000        20634.000000  \n",
       "mean       3.070449     35.631722   -119.569594            0.500000  \n",
       "std       10.387501      2.135738      2.003457            0.500012  \n",
       "min        0.692308     32.540000   -124.350000            0.000000  \n",
       "25%        2.429649     33.930000   -121.800000            0.000000  \n",
       "50%        2.817937     34.260000   -118.490000            0.500000  \n",
       "75%        3.282249     37.710000   -118.010000            1.000000  \n",
       "max     1243.333333     41.950000   -114.310000            1.000000  "
      ]
     },
     "execution_count": 28,
     "metadata": {},
     "output_type": "execute_result"
    }
   ],
   "source": [
    "cali_housing.describe()"
   ]
  },
  {
   "cell_type": "code",
   "execution_count": 29,
   "id": "cd0bad5e-3540-44c2-b6b7-65df4aaf938f",
   "metadata": {},
   "outputs": [],
   "source": [
    "# Both methods provide us with the same results, however, using the describe method allows us to see the mean, median, max, min, as well as \n",
    "# other values that we would want to analyze in regards to the data. We can see that the mean for the population per block is around 1,425 people. \n",
    "# Additionally, we can see that the average latitude and longitude of a house is (35.63, -119.57). We can see that 75% of the data for the average \n",
    "# bedrooms are around 1 and for the rooms are around 6. The average house age is aroud 28 years old."
   ]
  },
  {
   "cell_type": "code",
   "execution_count": 30,
   "id": "a4210911-bbe4-434a-b0d2-38d4d11bba11",
   "metadata": {},
   "outputs": [
    {
     "name": "stdout",
     "output_type": "stream",
     "text": [
      "<class 'pandas.core.frame.DataFrame'>\n",
      "RangeIndex: 20634 entries, 0 to 20633\n",
      "Data columns (total 9 columns):\n",
      " #   Column              Non-Null Count  Dtype   \n",
      "---  ------              --------------  -----   \n",
      " 0   MedInc              20634 non-null  float64 \n",
      " 1   HouseAge            20634 non-null  float64 \n",
      " 2   AveRooms            20634 non-null  float64 \n",
      " 3   AveBedrms           20634 non-null  float64 \n",
      " 4   Population          20634 non-null  float64 \n",
      " 5   AveOccup            20634 non-null  float64 \n",
      " 6   Latitude            20634 non-null  float64 \n",
      " 7   Longitude           20634 non-null  float64 \n",
      " 8   price_above_median  20634 non-null  category\n",
      "dtypes: category(1), float64(8)\n",
      "memory usage: 1.3 MB\n"
     ]
    }
   ],
   "source": [
    "cali_housing['price_above_median'] = cali_housing['price_above_median'].astype(\"category\") # changing to categorical data\n",
    "cali_housing.info()"
   ]
  },
  {
   "cell_type": "code",
   "execution_count": 31,
   "id": "7bb6accb-91e0-441a-8398-9266f48a0f95",
   "metadata": {},
   "outputs": [],
   "source": [
    "import seaborn as sns\n",
    "import matplotlib.pyplot as plt"
   ]
  },
  {
   "cell_type": "code",
   "execution_count": 32,
   "id": "45a52e2f-f9d0-4234-860d-3f0be834e29b",
   "metadata": {},
   "outputs": [
    {
     "data": {
      "image/png": "[encoded data removed]",
      "text/plain": [
       "<Figure size 640x480 with 1 Axes>"
      ]
     },
     "metadata": {},
     "output_type": "display_data"
    }
   ],
   "source": [
    "sns.histplot(data=cali_housing, x='HouseAge')\n",
    "\n",
    "plt.title('House Age')\n",
    "plt.show()\n"
   ]
  },
  {
   "cell_type": "code",
   "execution_count": 33,
   "id": "d73214d7-1940-4445-a99a-52d2a23ecf17",
   "metadata": {},
   "outputs": [
    {
     "data": {
      "image/png": "[encoded data removed]",
      "text/plain": [
       "<Figure size 640x480 with 1 Axes>"
      ]
     },
     "metadata": {},
     "output_type": "display_data"
    }
   ],
   "source": [
    "sns.histplot(data=cali_housing, x='Population')\n",
    "\n",
    "plt.title('Population')\n",
    "plt.show()\n"
   ]
  },
  {
   "cell_type": "code",
   "execution_count": 34,
   "id": "17e18141-10b4-4b64-9ab3-2b0045b27c86",
   "metadata": {},
   "outputs": [
    {
     "data": {
      "image/png": "[encoded data removed]",
      "text/plain": [
       "<Figure size 640x480 with 1 Axes>"
      ]
     },
     "metadata": {},
     "output_type": "display_data"
    }
   ],
   "source": [
    "sns.histplot(data=cali_housing, x='AveOccup')\n",
    "\n",
    "plt.title('Average Occupants')\n",
    "plt.show()\n"
   ]
  },
  {
   "cell_type": "code",
   "execution_count": 35,
   "id": "9c995fd8-a4b9-455d-895a-837da28a4406",
   "metadata": {},
   "outputs": [
    {
     "data": {
      "image/png": "[encoded data removed]",
      "text/plain": [
       "<Figure size 640x480 with 1 Axes>"
      ]
     },
     "metadata": {},
     "output_type": "display_data"
    }
   ],
   "source": [
    "sns.histplot(data=cali_housing, x='AveBedrms')\n",
    "\n",
    "plt.title('Average Bedrooms')\n",
    "plt.show()\n"
   ]
  },
  {
   "cell_type": "code",
   "execution_count": 36,
   "id": "2c213bdf-f367-4d7d-9b0c-9de945f8d8ed",
   "metadata": {},
   "outputs": [
    {
     "data": {
      "image/png": "[encoded data removed]",
      "text/plain": [
       "<Figure size 640x480 with 1 Axes>"
      ]
     },
     "metadata": {},
     "output_type": "display_data"
    }
   ],
   "source": [
    "sns.histplot(data=cali_housing, x='AveRooms')\n",
    "\n",
    "plt.title('Average Rooms')\n",
    "plt.show()\n"
   ]
  },
  {
   "cell_type": "code",
   "execution_count": 37,
   "id": "ba3a70c5-a7d4-4737-b593-15a46ba80a21",
   "metadata": {},
   "outputs": [
    {
     "data": {
      "image/png": "[encoded data removed]",
      "text/plain": [
       "<Figure size 640x480 with 1 Axes>"
      ]
     },
     "metadata": {},
     "output_type": "display_data"
    }
   ],
   "source": [
    "sns.histplot(data=cali_housing, x='MedInc')\n",
    "\n",
    "plt.title('Med Inc ')\n",
    "plt.show()\n"
   ]
  },
  {
   "cell_type": "code",
   "execution_count": 38,
   "id": "f76d0009-6f38-481b-8463-f034b282ce54",
   "metadata": {},
   "outputs": [
    {
     "data": {
      "image/png": "[encoded data removed]",
      "text/plain": [
       "<Figure size 640x480 with 1 Axes>"
      ]
     },
     "metadata": {},
     "output_type": "display_data"
    }
   ],
   "source": [
    "sns.histplot(data=cali_housing, x='Latitude')\n",
    "\n",
    "plt.title('Latitude')\n",
    "plt.show()\n"
   ]
  },
  {
   "cell_type": "code",
   "execution_count": 39,
   "id": "c3e5cafb-445e-41dd-ab79-e6a2000bc7f8",
   "metadata": {},
   "outputs": [
    {
     "data": {
      "image/png": "[encoded data removed]",
      "text/plain": [
       "<Figure size 640x480 with 1 Axes>"
      ]
     },
     "metadata": {},
     "output_type": "display_data"
    }
   ],
   "source": [
    "sns.histplot(data=cali_housing, x='Longitude')\n",
    "\n",
    "plt.title('Longitude')\n",
    "plt.show()\n"
   ]
  },
  {
   "cell_type": "code",
   "execution_count": 40,
   "id": "50f34739-7f8a-4ae1-9c1e-7e00d837bc3e",
   "metadata": {},
   "outputs": [
    {
     "data": {
      "image/png": "[encoded data removed]",
      "text/plain": [
       "<Figure size 640x480 with 1 Axes>"
      ]
     },
     "metadata": {},
     "output_type": "display_data"
    }
   ],
   "source": [
    "sns.countplot(data=cali_housing, x='price_above_median')\n",
    "\n",
    "plt.title('Price above Median')\n",
    "plt.show()\n"
   ]
  },
  {
   "cell_type": "code",
   "execution_count": 41,
   "id": "db8c4ef4-9b97-4d6c-a7a9-53a3cc7c6638",
   "metadata": {},
   "outputs": [],
   "source": [
    "# From these plots, we gain a lot of insight on the dataset. For one, the price above the median is pretty equal from yes and no, where the price being \n",
    "# below the median is just a little bit larger. The latitude at 34 degrees seems to be the most occuring while the longitide at around -119 is the most\n",
    "# occuring. The average rooms in California ranges from 1 to 20, which we can see through the histplot. Additionally, we can see that there is a large\n",
    "# variety in house age, and it is more spread out than the other plots. Overall, there is a great amount of information we can see through these \n",
    "# histplots."
   ]
  },
  {
   "cell_type": "code",
   "execution_count": 42,
   "id": "ee8c2b0d-b45b-4652-9389-d0179d66a873",
   "metadata": {},
   "outputs": [
    {
     "name": "stdout",
     "output_type": "stream",
     "text": [
      "<class 'pandas.core.frame.DataFrame'>\n",
      "RangeIndex: 20634 entries, 0 to 20633\n",
      "Data columns (total 9 columns):\n",
      " #   Column                Non-Null Count  Dtype  \n",
      "---  ------                --------------  -----  \n",
      " 0   MedInc                20634 non-null  float64\n",
      " 1   HouseAge              20634 non-null  float64\n",
      " 2   AveRooms              20634 non-null  float64\n",
      " 3   AveBedrms             20634 non-null  float64\n",
      " 4   Population            20634 non-null  float64\n",
      " 5   AveOccup              20634 non-null  float64\n",
      " 6   Latitude              20634 non-null  float64\n",
      " 7   Longitude             20634 non-null  float64\n",
      " 8   price_above_median_1  20634 non-null  bool   \n",
      "dtypes: bool(1), float64(8)\n",
      "memory usage: 1.3 MB\n"
     ]
    }
   ],
   "source": [
    "cali_housing = pd.get_dummies(cali_housing, columns=[\"price_above_median\"], drop_first=True) # now conduct one hot encoding\n",
    "cali_housing.info()"
   ]
  },
  {
   "cell_type": "code",
   "execution_count": 43,
   "id": "93ed0104-7eef-46e8-ab3a-a2d69f8e1a86",
   "metadata": {},
   "outputs": [],
   "source": [
    "# Part 2"
   ]
  },
  {
   "cell_type": "code",
   "execution_count": 44,
   "id": "e3c8a807-db5b-4664-94f3-7adf150e9584",
   "metadata": {},
   "outputs": [
    {
     "name": "stdout",
     "output_type": "stream",
     "text": [
      "Training class distribution:\n",
      "price_above_median_1\n",
      "False    0.500035\n",
      "True     0.499965\n",
      "Name: proportion, dtype: float64\n",
      "\n",
      "Testing class distribution:\n",
      "price_above_median_1\n",
      "True     0.500081\n",
      "False    0.499919\n",
      "Name: proportion, dtype: float64\n"
     ]
    }
   ],
   "source": [
    "import pandas as pd\n",
    "from sklearn.model_selection import train_test_split\n",
    "from sklearn.preprocessing import StandardScaler\n",
    "\n",
    "X = cali_housing.drop('price_above_median_1', axis=1) \n",
    "y = cali_housing['price_above_median_1']  \n",
    "\n",
    "X_train, X_test, y_train, y_test = train_test_split(X, y, test_size=0.3,  stratify=y, random_state = 1)\n",
    "\n",
    "# data standarization for KNN and ADABoost (Used ChatGPT to see which models would benefit)\n",
    "scaler = StandardScaler()\n",
    "X_train_scaled = scaler.fit_transform(X_train)\n",
    "X_test_scaled = scaler.transform(X_test)\n",
    "\n",
    "print(\"Training class distribution:\")\n",
    "print(y_train.value_counts(normalize=True))\n",
    "\n",
    "print(\"\\nTesting class distribution:\")\n",
    "print(y_test.value_counts(normalize=True))\n"
   ]
  },
  {
   "cell_type": "code",
   "execution_count": 99,
   "id": "fa58b646-3868-482c-96d2-1231c0866c5c",
   "metadata": {},
   "outputs": [],
   "source": [
    "# KNN Classifier (Using gridsearchCV for hyperparameter testing - more optimal)\n",
    "\n",
    "from sklearn.neighbors import KNeighborsClassifier\n",
    "from sklearn.model_selection import GridSearchCV\n",
    "import numpy as np\n",
    "from sklearn.metrics import accuracy_score, recall_score, precision_score, f1_score\n",
    "\n",
    "knn_search_recall = KNeighborsClassifier()\n",
    "param_grid = {\"n_neighbors\": np.arange(1, 100)}\n",
    "\n",
    "knn_gscv2 = GridSearchCV(knn_search_recall, param_grid, cv=5)\n",
    "\n",
    "knn_gscv2.fit(X_train_scaled, y_train)\n",
    "knn_gscv2.best_params_\n",
    "best_knn = knn_gscv2.best_estimator_"
   ]
  },
  {
   "cell_type": "code",
   "execution_count": 100,
   "id": "b5c77a4e-82d6-4157-98d2-c2107c1422bb",
   "metadata": {},
   "outputs": [
    {
     "name": "stdout",
     "output_type": "stream",
     "text": [
      "K-Nearest Neighbors Report:\n",
      "Accuracy on test data: 0.84\n",
      "Accuracy on train data: 0.86\n",
      "Recall on test data: 0.84\n",
      "Recall on train data: 0.86\n",
      "Precision on test data: 0.83\n",
      "Precision on train data: 0.86\n",
      "F1-score on test data: 0.84\n",
      "F1-score on train data: 0.86\n"
     ]
    }
   ],
   "source": [
    "# K-Nearest Neighbors (KNN) Report:\n",
    "\n",
    "print(\"K-Nearest Neighbors Report:\")\n",
    "print('Accuracy on test data: {:.2f}'.format(accuracy_score(y_test, best_knn.predict(X_test_scaled))))\n",
    "print('Accuracy on train data: {:.2f}'.format(accuracy_score(y_train, best_knn.predict(X_train_scaled))))\n",
    "print('Recall on test data: {:.2f}'.format(recall_score(y_test, best_knn.predict(X_test_scaled))))\n",
    "print('Recall on train data: {:.2f}'.format(recall_score(y_train, best_knn.predict(X_train_scaled))))\n",
    "print('Precision on test data: {:.2f}'.format(precision_score(y_test, best_knn.predict(X_test_scaled))))\n",
    "print('Precision on train data: {:.2f}'.format(precision_score(y_train, best_knn.predict(X_train_scaled))))\n",
    "print('F1-score on test data: {:.2f}'.format(f1_score(y_test, best_knn.predict(X_test_scaled))))\n",
    "print('F1-score on train data: {:.2f}'.format(f1_score(y_train, best_knn.predict(X_train_scaled))))"
   ]
  },
  {
   "cell_type": "code",
   "execution_count": 103,
   "id": "88aca02c-0cc1-49aa-ae8b-0af67e627d75",
   "metadata": {},
   "outputs": [
    {
     "name": "stdout",
     "output_type": "stream",
     "text": [
      "Confusion Matrix K-Nearest Neighbors:\n",
      "[[2575  520]\n",
      " [ 496 2600]]\n"
     ]
    }
   ],
   "source": [
    "print(\"Confusion Matrix K-Nearest Neighbors:\")\n",
    "print(confusion_matrix(y_test, best_knn.predict(X_test_scaled))) # good outputs in comparison to others"
   ]
  },
  {
   "cell_type": "code",
   "execution_count": 112,
   "id": "6199038a-7e0f-440b-acaa-fc971ebb211a",
   "metadata": {},
   "outputs": [],
   "source": [
    "# Decision Tree Classifier\n",
    "\n",
    "from sklearn.tree import DecisionTreeClassifier\n",
    "\n",
    "# used chatgpt to find how to stop overfitting (was getting 100% at first for all metrics on training data)\n",
    "model = DecisionTreeClassifier(\n",
    "    max_depth=5,  # Prevents overfitting\n",
    "    min_samples_split=10,  \n",
    "    min_samples_leaf=5,  \n",
    "    random_state=1\n",
    ").fit(X_train, y_train)\n"
   ]
  },
  {
   "cell_type": "code",
   "execution_count": 113,
   "id": "d496dcff-0f2c-4478-a12c-e56e673e3df6",
   "metadata": {},
   "outputs": [
    {
     "name": "stdout",
     "output_type": "stream",
     "text": [
      "Decision Tree Report:\n",
      "Accuracy on test data: 0.78\n",
      "Accuracy on train data: 0.80\n",
      "Recall on test data: 0.74\n",
      "Recall on train data: 0.75\n",
      "Precision on test data: 0.81\n",
      "Precision on train data: 0.83\n",
      "F1-score on test data: 0.77\n",
      "F1-score on train data: 0.78\n"
     ]
    }
   ],
   "source": [
    "# Decision Tree Report:\n",
    "\n",
    "print(\"Decision Tree Report:\")\n",
    "print('Accuracy on test data: {:.2f}'.format(accuracy_score(y_test, model.predict(X_test))))\n",
    "print('Accuracy on train data: {:.2f}'.format(accuracy_score(y_train, model.predict(X_train))))\n",
    "\n",
    "print('Recall on test data: {:.2f}'.format(recall_score(y_test, model.predict(X_test))))\n",
    "print('Recall on train data: {:.2f}'.format(recall_score(y_train, model.predict(X_train))))\n",
    "\n",
    "print('Precision on test data: {:.2f}'.format(precision_score(y_test, model.predict(X_test))))\n",
    "print('Precision on train data: {:.2f}'.format(precision_score(y_train, model.predict(X_train))))\n",
    "\n",
    "print('F1-score on test data: {:.2f}'.format(f1_score(y_test, model.predict(X_test))))\n",
    "print('F1-score on train data: {:.2f}'.format(f1_score(y_train, model.predict(X_train))))"
   ]
  },
  {
   "cell_type": "code",
   "execution_count": 114,
   "id": "1f4d49b9-f78a-4800-804c-b1c7998c812b",
   "metadata": {},
   "outputs": [
    {
     "name": "stdout",
     "output_type": "stream",
     "text": [
      "Performance on TEST\n",
      "*******************\n",
      "              precision    recall  f1-score   support\n",
      "\n",
      "       False       0.76      0.82      0.79      3095\n",
      "        True       0.81      0.74      0.77      3096\n",
      "\n",
      "    accuracy                           0.78      6191\n",
      "   macro avg       0.79      0.78      0.78      6191\n",
      "weighted avg       0.79      0.78      0.78      6191\n",
      "\n",
      "Performance on TRAIN\n",
      "********************\n",
      "              precision    recall  f1-score   support\n",
      "\n",
      "       False       0.77      0.85      0.81      7222\n",
      "        True       0.83      0.75      0.78      7221\n",
      "\n",
      "    accuracy                           0.80     14443\n",
      "   macro avg       0.80      0.80      0.80     14443\n",
      "weighted avg       0.80      0.80      0.80     14443\n",
      "\n"
     ]
    }
   ],
   "source": [
    "# also can use the built in classification report :\n",
    "\n",
    "from sklearn.metrics import classification_report\n",
    "print(f\"Performance on TEST\\n*******************\\n{classification_report(y_test, model.predict(X_test))}\")\n",
    "print(f\"Performance on TRAIN\\n********************\\n{classification_report(y_train, model.predict(X_train))}\")"
   ]
  },
  {
   "cell_type": "code",
   "execution_count": 107,
   "id": "a728bbf9-182e-4e3a-87bd-ff56b5e70873",
   "metadata": {},
   "outputs": [
    {
     "name": "stdout",
     "output_type": "stream",
     "text": [
      "Confusion Matrix Decision Tree:\n",
      "[[2555  540]\n",
      " [ 489 2607]]\n"
     ]
    }
   ],
   "source": [
    "print(\"Confusion Matrix Decision Tree:\")\n",
    "print(confusion_matrix(y_test, model.predict(X_test))) # correctly predicted a lot of values"
   ]
  },
  {
   "cell_type": "code",
   "execution_count": 45,
   "id": "53fc07f7-f80b-4a7c-9147-2003e879472c",
   "metadata": {},
   "outputs": [],
   "source": [
    "# Random Forrest Classifier:\n",
    "import numpy as np\n",
    "from sklearn.ensemble import RandomForestClassifier\n",
    "from sklearn.model_selection import GridSearchCV\n",
    "from sklearn.metrics import accuracy_score, recall_score, precision_score, f1_score\n",
    "\n",
    "model = RandomForestClassifier()\n",
    "param_grid = {\n",
    "   \"n_estimators\": np.arange(start=10, stop=100, step=2),\n",
    "   \"max_depth\": np.arange(start=2, stop=20),\n",
    "   \"min_samples_leaf\": np.arange(start=1, stop=5),\n",
    "   \"class_weight\": [{0: 0.1, 1: 0.9}], # removed other weights as it was taking too long\n",
    "}\n",
    "\n",
    "gscv = GridSearchCV(model, param_grid, cv=5, n_jobs=8) #removed scoring recall because it was overfitting to predicting above median price\n",
    "gscv.fit(X_train, y_train)\n",
    "gscv.best_params_\n",
    "model = gscv.best_estimator_\n"
   ]
  },
  {
   "cell_type": "code",
   "execution_count": 46,
   "id": "9dcffb61-84bb-46e0-b32d-e59f2f974285",
   "metadata": {},
   "outputs": [
    {
     "name": "stdout",
     "output_type": "stream",
     "text": [
      "Random Forrest Classifier Report:\n",
      "Accuracy on test data: 0.88\n",
      "Accuracy on train data: 0.97\n",
      "Recall on test data: 0.90\n",
      "Recall on train data: 1.00\n",
      "Precision on test data: 0.87\n",
      "Precision on train data: 0.95\n",
      "F1-score on test data: 0.88\n",
      "F1-score on train data: 0.97\n"
     ]
    }
   ],
   "source": [
    "# Random Forrest Classifier Report:\n",
    "\n",
    "print(\"Random Forrest Classifier Report:\")\n",
    "print('Accuracy on test data: {:.2f}'.format(accuracy_score(y_test, model.predict(X_test))))\n",
    "print('Accuracy on train data: {:.2f}'.format(accuracy_score(y_train, model.predict(X_train))))\n",
    "\n",
    "print('Recall on test data: {:.2f}'.format(recall_score(y_test, model.predict(X_test))))\n",
    "print('Recall on train data: {:.2f}'.format(recall_score(y_train, model.predict(X_train))))\n",
    "\n",
    "print('Precision on test data: {:.2f}'.format(precision_score(y_test, model.predict(X_test))))\n",
    "print('Precision on train data: {:.2f}'.format(precision_score(y_train, model.predict(X_train))))\n",
    "\n",
    "print('F1-score on test data: {:.2f}'.format(f1_score(y_test, model.predict(X_test))))\n",
    "print('F1-score on train data: {:.2f}'.format(f1_score(y_train, model.predict(X_train))))"
   ]
  },
  {
   "cell_type": "code",
   "execution_count": 47,
   "id": "c6cb0677-db98-429c-9818-d8faeea04a3a",
   "metadata": {},
   "outputs": [
    {
     "name": "stdout",
     "output_type": "stream",
     "text": [
      "Performance on TEST\n",
      "*******************\n",
      "              precision    recall  f1-score   support\n",
      "\n",
      "       False       0.90      0.86      0.88      3095\n",
      "        True       0.87      0.90      0.88      3096\n",
      "\n",
      "    accuracy                           0.88      6191\n",
      "   macro avg       0.88      0.88      0.88      6191\n",
      "weighted avg       0.88      0.88      0.88      6191\n",
      "\n",
      "Performance on TRAIN\n",
      "********************\n",
      "              precision    recall  f1-score   support\n",
      "\n",
      "       False       1.00      0.94      0.97      7222\n",
      "        True       0.95      1.00      0.97      7221\n",
      "\n",
      "    accuracy                           0.97     14443\n",
      "   macro avg       0.97      0.97      0.97     14443\n",
      "weighted avg       0.97      0.97      0.97     14443\n",
      "\n"
     ]
    }
   ],
   "source": [
    "# also can use the built in classification report :\n",
    "from sklearn.metrics import classification_report\n",
    "\n",
    "print(f\"Performance on TEST\\n*******************\\n{classification_report(y_test, model.predict(X_test))}\")\n",
    "print(f\"Performance on TRAIN\\n********************\\n{classification_report(y_train, model.predict(X_train))}\")"
   ]
  },
  {
   "cell_type": "code",
   "execution_count": 48,
   "id": "2116eacd-b461-4640-b420-f88c3cea2944",
   "metadata": {},
   "outputs": [
    {
     "name": "stdout",
     "output_type": "stream",
     "text": [
      "Confusion Matrix Random Forrest:\n",
      "[[2659  436]\n",
      " [ 301 2795]]\n"
     ]
    }
   ],
   "source": [
    "from sklearn.metrics import confusion_matrix\n",
    "\n",
    "print(\"Confusion Matrix Random Forrest:\")\n",
    "print(confusion_matrix(y_test, model.predict(X_test))) # model is heavily biased towards predicting above median price"
   ]
  },
  {
   "cell_type": "code",
   "execution_count": 115,
   "id": "8bb80bb7-9d9d-4cb7-9194-e88fbe4c5db6",
   "metadata": {},
   "outputs": [
    {
     "data": {
      "text/html": [
       "<style>#sk-container-id-1 {color: black;}#sk-container-id-1 pre{padding: 0;}#sk-container-id-1 div.sk-toggleable {background-color: white;}#sk-container-id-1 label.sk-toggleable__label {cursor: pointer;display: block;width: 100%;margin-bottom: 0;padding: 0.3em;box-sizing: border-box;text-align: center;}#sk-container-id-1 label.sk-toggleable__label-arrow:before {content: \"▸\";float: left;margin-right: 0.25em;color: #696969;}#sk-container-id-1 label.sk-toggleable__label-arrow:hover:before {color: black;}#sk-container-id-1 div.sk-estimator:hover label.sk-toggleable__label-arrow:before {color: black;}#sk-container-id-1 div.sk-toggleable__content {max-height: 0;max-width: 0;overflow: hidden;text-align: left;background-color: #f0f8ff;}#sk-container-id-1 div.sk-toggleable__content pre {margin: 0.2em;color: black;border-radius: 0.25em;background-color: #f0f8ff;}#sk-container-id-1 input.sk-toggleable__control:checked~div.sk-toggleable__content {max-height: 200px;max-width: 100%;overflow: auto;}#sk-container-id-1 input.sk-toggleable__control:checked~label.sk-toggleable__label-arrow:before {content: \"▾\";}#sk-container-id-1 div.sk-estimator input.sk-toggleable__control:checked~label.sk-toggleable__label {background-color: #d4ebff;}#sk-container-id-1 div.sk-label input.sk-toggleable__control:checked~label.sk-toggleable__label {background-color: #d4ebff;}#sk-container-id-1 input.sk-hidden--visually {border: 0;clip: rect(1px 1px 1px 1px);clip: rect(1px, 1px, 1px, 1px);height: 1px;margin: -1px;overflow: hidden;padding: 0;position: absolute;width: 1px;}#sk-container-id-1 div.sk-estimator {font-family: monospace;background-color: #f0f8ff;border: 1px dotted black;border-radius: 0.25em;box-sizing: border-box;margin-bottom: 0.5em;}#sk-container-id-1 div.sk-estimator:hover {background-color: #d4ebff;}#sk-container-id-1 div.sk-parallel-item::after {content: \"\";width: 100%;border-bottom: 1px solid gray;flex-grow: 1;}#sk-container-id-1 div.sk-label:hover label.sk-toggleable__label {background-color: #d4ebff;}#sk-container-id-1 div.sk-serial::before {content: \"\";position: absolute;border-left: 1px solid gray;box-sizing: border-box;top: 0;bottom: 0;left: 50%;z-index: 0;}#sk-container-id-1 div.sk-serial {display: flex;flex-direction: column;align-items: center;background-color: white;padding-right: 0.2em;padding-left: 0.2em;position: relative;}#sk-container-id-1 div.sk-item {position: relative;z-index: 1;}#sk-container-id-1 div.sk-parallel {display: flex;align-items: stretch;justify-content: center;background-color: white;position: relative;}#sk-container-id-1 div.sk-item::before, #sk-container-id-1 div.sk-parallel-item::before {content: \"\";position: absolute;border-left: 1px solid gray;box-sizing: border-box;top: 0;bottom: 0;left: 50%;z-index: -1;}#sk-container-id-1 div.sk-parallel-item {display: flex;flex-direction: column;z-index: 1;position: relative;background-color: white;}#sk-container-id-1 div.sk-parallel-item:first-child::after {align-self: flex-end;width: 50%;}#sk-container-id-1 div.sk-parallel-item:last-child::after {align-self: flex-start;width: 50%;}#sk-container-id-1 div.sk-parallel-item:only-child::after {width: 0;}#sk-container-id-1 div.sk-dashed-wrapped {border: 1px dashed gray;margin: 0 0.4em 0.5em 0.4em;box-sizing: border-box;padding-bottom: 0.4em;background-color: white;}#sk-container-id-1 div.sk-label label {font-family: monospace;font-weight: bold;display: inline-block;line-height: 1.2em;}#sk-container-id-1 div.sk-label-container {text-align: center;}#sk-container-id-1 div.sk-container {/* jupyter's `normalize.less` sets `[hidden] { display: none; }` but bootstrap.min.css set `[hidden] { display: none !important; }` so we also need the `!important` here to be able to override the default hidden behavior on the sphinx rendered scikit-learn.org. See: https://github.com/scikit-learn/scikit-learn/issues/21755 */display: inline-block !important;position: relative;}#sk-container-id-1 div.sk-text-repr-fallback {display: none;}</style><div id=\"sk-container-id-1\" class=\"sk-top-container\"><div class=\"sk-text-repr-fallback\"><pre>GridSearchCV(cv=3,\n",
       "             estimator=AdaBoostClassifier(estimator=DecisionTreeClassifier(max_depth=1),\n",
       "                                          random_state=42),\n",
       "             n_jobs=8,\n",
       "             param_grid={&#x27;learning_rate&#x27;: [0.1, 0.5, 1.0],\n",
       "                         &#x27;n_estimators&#x27;: [50, 100, 200]})</pre><b>In a Jupyter environment, please rerun this cell to show the HTML representation or trust the notebook. <br />On GitHub, the HTML representation is unable to render, please try loading this page with nbviewer.org.</b></div><div class=\"sk-container\" hidden><div class=\"sk-item sk-dashed-wrapped\"><div class=\"sk-label-container\"><div class=\"sk-label sk-toggleable\"><input class=\"sk-toggleable__control sk-hidden--visually\" id=\"sk-estimator-id-1\" type=\"checkbox\" ><label for=\"sk-estimator-id-1\" class=\"sk-toggleable__label sk-toggleable__label-arrow\">GridSearchCV</label><div class=\"sk-toggleable__content\"><pre>GridSearchCV(cv=3,\n",
       "             estimator=AdaBoostClassifier(estimator=DecisionTreeClassifier(max_depth=1),\n",
       "                                          random_state=42),\n",
       "             n_jobs=8,\n",
       "             param_grid={&#x27;learning_rate&#x27;: [0.1, 0.5, 1.0],\n",
       "                         &#x27;n_estimators&#x27;: [50, 100, 200]})</pre></div></div></div><div class=\"sk-parallel\"><div class=\"sk-parallel-item\"><div class=\"sk-item\"><div class=\"sk-label-container\"><div class=\"sk-label sk-toggleable\"><input class=\"sk-toggleable__control sk-hidden--visually\" id=\"sk-estimator-id-2\" type=\"checkbox\" ><label for=\"sk-estimator-id-2\" class=\"sk-toggleable__label sk-toggleable__label-arrow\">estimator: AdaBoostClassifier</label><div class=\"sk-toggleable__content\"><pre>AdaBoostClassifier(estimator=DecisionTreeClassifier(max_depth=1),\n",
       "                   random_state=42)</pre></div></div></div><div class=\"sk-serial\"><div class=\"sk-item sk-dashed-wrapped\"><div class=\"sk-parallel\"><div class=\"sk-parallel-item\"><div class=\"sk-item\"><div class=\"sk-label-container\"><div class=\"sk-label sk-toggleable\"><input class=\"sk-toggleable__control sk-hidden--visually\" id=\"sk-estimator-id-3\" type=\"checkbox\" ><label for=\"sk-estimator-id-3\" class=\"sk-toggleable__label sk-toggleable__label-arrow\">estimator: DecisionTreeClassifier</label><div class=\"sk-toggleable__content\"><pre>DecisionTreeClassifier(max_depth=1)</pre></div></div></div><div class=\"sk-serial\"><div class=\"sk-item\"><div class=\"sk-estimator sk-toggleable\"><input class=\"sk-toggleable__control sk-hidden--visually\" id=\"sk-estimator-id-4\" type=\"checkbox\" ><label for=\"sk-estimator-id-4\" class=\"sk-toggleable__label sk-toggleable__label-arrow\">DecisionTreeClassifier</label><div class=\"sk-toggleable__content\"><pre>DecisionTreeClassifier(max_depth=1)</pre></div></div></div></div></div></div></div></div></div></div></div></div></div></div></div>"
      ],
      "text/plain": [
       "GridSearchCV(cv=3,\n",
       "             estimator=AdaBoostClassifier(estimator=DecisionTreeClassifier(max_depth=1),\n",
       "                                          random_state=42),\n",
       "             n_jobs=8,\n",
       "             param_grid={'learning_rate': [0.1, 0.5, 1.0],\n",
       "                         'n_estimators': [50, 100, 200]})"
      ]
     },
     "execution_count": 115,
     "metadata": {},
     "output_type": "execute_result"
    }
   ],
   "source": [
    "# ADABoost Classifier\n",
    "\n",
    "from sklearn.ensemble import AdaBoostClassifier\n",
    "from sklearn.tree import DecisionTreeClassifier\n",
    "from sklearn.model_selection import GridSearchCV\n",
    "\n",
    "decision_tree_stump = DecisionTreeClassifier(max_depth=1)\n",
    "\n",
    "param_grid = {\n",
    "   'learning_rate': [0.1, 0.5, 1.0],\n",
    "   'n_estimators': [50, 100, 200]\n",
    "}\n",
    "\n",
    "abc = AdaBoostClassifier(estimator=decision_tree_stump, random_state=42)\n",
    "grid_search = GridSearchCV(abc, param_grid, cv=3, n_jobs=8)\n",
    "grid_search.fit(X_train_scaled, y_train)"
   ]
  },
  {
   "cell_type": "code",
   "execution_count": 116,
   "id": "f2f6b886-33c2-4293-af39-fcf334dbcce7",
   "metadata": {},
   "outputs": [
    {
     "name": "stdout",
     "output_type": "stream",
     "text": [
      "ADABoost Classifier Report:\n",
      "Accuracy on test data: 0.88\n",
      "Accuracy on train data: 0.89\n",
      "Recall on test data: 0.88\n",
      "Recall on train data: 0.89\n",
      "Precision on test data: 0.87\n",
      "Precision on train data: 0.89\n",
      "F1-score on test data: 0.88\n",
      "F1-score on train data: 0.89\n"
     ]
    }
   ],
   "source": [
    "# ADABoost Classifier Report:\n",
    "\n",
    "print(\"ADABoost Classifier Report:\")\n",
    "print('Accuracy on test data: {:.2f}'.format(accuracy_score(y_test, grid_search.predict(X_test_scaled))))\n",
    "print('Accuracy on train data: {:.2f}'.format(accuracy_score(y_train, grid_search.predict(X_train_scaled))))\n",
    "\n",
    "print('Recall on test data: {:.2f}'.format(recall_score(y_test, grid_search.predict(X_test_scaled))))\n",
    "print('Recall on train data: {:.2f}'.format(recall_score(y_train, grid_search.predict(X_train_scaled))))\n",
    "\n",
    "print('Precision on test data: {:.2f}'.format(precision_score(y_test, grid_search.predict(X_test_scaled))))\n",
    "print('Precision on train data: {:.2f}'.format(precision_score(y_train, grid_search.predict(X_train_scaled))))\n",
    "\n",
    "print('F1-score on test data: {:.2f}'.format(f1_score(y_test, grid_search.predict(X_test_scaled))))\n",
    "print('F1-score on train data: {:.2f}'.format(f1_score(y_train, grid_search.predict(X_train_scaled))))"
   ]
  },
  {
   "cell_type": "code",
   "execution_count": 117,
   "id": "de0ef5de-286c-45b8-88d6-228cc2404fa2",
   "metadata": {},
   "outputs": [
    {
     "name": "stdout",
     "output_type": "stream",
     "text": [
      "Performance on TEST\n",
      "*******************\n",
      "              precision    recall  f1-score   support\n",
      "\n",
      "       False       0.88      0.87      0.88      3095\n",
      "        True       0.87      0.88      0.88      3096\n",
      "\n",
      "    accuracy                           0.88      6191\n",
      "   macro avg       0.88      0.88      0.88      6191\n",
      "weighted avg       0.88      0.88      0.88      6191\n",
      "\n",
      "Performance on TRAIN\n",
      "********************\n",
      "              precision    recall  f1-score   support\n",
      "\n",
      "       False       0.89      0.89      0.89      7222\n",
      "        True       0.89      0.89      0.89      7221\n",
      "\n",
      "    accuracy                           0.89     14443\n",
      "   macro avg       0.89      0.89      0.89     14443\n",
      "weighted avg       0.89      0.89      0.89     14443\n",
      "\n"
     ]
    }
   ],
   "source": [
    "# also can use the built in classification report :\n",
    "print(f\"Performance on TEST\\n*******************\\n{classification_report(y_test, grid_search.predict(X_test_scaled))}\")\n",
    "print(f\"Performance on TRAIN\\n********************\\n{classification_report(y_train, grid_search.predict(X_train_scaled))}\")"
   ]
  },
  {
   "cell_type": "code",
   "execution_count": 118,
   "id": "9f9dfd08-1380-469e-8f10-56da8810f22a",
   "metadata": {},
   "outputs": [
    {
     "name": "stdout",
     "output_type": "stream",
     "text": [
      "Confusion Matrix ADABoost:\n",
      "[[2692  403]\n",
      " [ 361 2735]]\n"
     ]
    }
   ],
   "source": [
    "print(\"Confusion Matrix ADABoost:\")\n",
    "print(confusion_matrix(y_test, grid_search.predict(X_test_scaled))) # pretty good outputs in comparison to others"
   ]
  },
  {
   "cell_type": "code",
   "execution_count": null,
   "id": "5f193870-99cc-42e6-9fed-decdc1a914f0",
   "metadata": {},
   "outputs": [],
   "source": []
  },
  {
   "cell_type": "code",
   "execution_count": null,
   "id": "845a115d-09da-406e-a42c-24b2a126e0b6",
   "metadata": {},
   "outputs": [],
   "source": []
  },
  {
   "cell_type": "code",
   "execution_count": null,
   "id": "8f93f284-9710-4483-b7ae-00445e9c68c2",
   "metadata": {},
   "outputs": [],
   "source": []
  }
 ],
 "metadata": {
  "kernelspec": {
   "display_name": "Python 3 (ipykernel)",
   "language": "python",
   "name": "python3"
  },
  "language_info": {
   "codemirror_mode": {
    "name": "ipython",
    "version": 3
   },
   "file_extension": ".py",
   "mimetype": "text/x-python",
   "name": "python",
   "nbconvert_exporter": "python",
   "pygments_lexer": "ipython3",
   "version": "3.11.1"
  }
 },
 "nbformat": 4,
 "nbformat_minor": 5
}
